{
 "cells": [
  {
   "cell_type": "markdown",
   "metadata": {
    "collapsed": true,
    "pycharm": {
     "name": "#%% md\n"
    }
   },
   "source": [
    "Initilizations"
   ]
  },
  {
   "cell_type": "code",
   "execution_count": null,
   "outputs": [],
   "source": [
    "import os\n",
    "exec(open(os.path.join(\"Scripts\", \"Imports.py\")).read())\n",
    "from Utilities.Data_Utils import *\n",
    "from Utilities.Hyperparameters_Utils import *\n",
    "from Utilities.Model_Utils import *\n",
    "from Utilities.Loss_Utils import *\n",
    "from Utilities.Baselines_Utils import *\n",
    "from Utilities.Evaluation_Utils import *\n",
    "ModelsFolder='SavedModels';FiguresFolder='SavedFigures'\n",
    "np.random.seed(42)\n",
    "torch.manual_seed(42)\n"
   ],
   "metadata": {
    "collapsed": false,
    "pycharm": {
     "name": "#%%\n"
    }
   }
  },
  {
   "cell_type": "markdown",
   "source": [
    "Configurations"
   ],
   "metadata": {
    "collapsed": false
   }
  },
  {
   "cell_type": "code",
   "execution_count": null,
   "outputs": [],
   "source": [
    "GPU=0 #set -1 for cpu\n",
    "LoadSavedModels=True\n",
    "LoadSavedBaselineModels=True\n",
    "\n",
    "#in order to reproduce figures + tables\n",
    "SubjectsList=np.arange(1,61)\n",
    "BaselinesToComare=[\"ADALINE\",\"ESN\",\"RLS\",\"LMS\"]\n",
    "\n",
    "#in order to reproduce figures only\n",
    "SubjectsList=[46]\n",
    "BaselinesToComare=[]\n",
    "\n",
    "#\n",
    "LogToWandb = False\n",
    "WadbUsername = 'YourUsername'"
   ],
   "metadata": {
    "collapsed": false,
    "pycharm": {
     "name": "#%%\n"
    }
   }
  },
  {
   "cell_type": "markdown",
   "source": [
    "Iterate over subjects"
   ],
   "metadata": {
    "collapsed": false
   }
  },
  {
   "cell_type": "code",
   "execution_count": null,
   "outputs": [],
   "source": [
    "ConfigurationsToExecute=[GetModifiedConf({},['Subjects','GPU'],[[x],GPU]) for x in SubjectsList]\n",
    "DiscardedSubjects=[]\n",
    "ResultsMeanDict,ResultsStdDict={'Ratio':[],'Diff':[]},{'Ratio':[],'Diff':[]}\n",
    "for ie,e in tqdm(enumerate(ConfigurationsToExecute)):\n",
    "    try:\n",
    "        #initializations\n",
    "        hp = HP()\n",
    "        [exec('hp.%s=%s' % (f, 'e[\\'%s\\']' % f)) for f in e.keys()]\n",
    "        hp.LogToWandb = LogToWandb\n",
    "        hp.WadbUsername = WadbUsername\n",
    "        hp.ExpName = '_'.join(['%s=%s' % (f, hp.__getattribute__(f)) for f in e.keys() if not (f == 'GPU')])\n",
    "        device = torch.device(\"cuda:%g\" % hp.GPU if (torch.cuda.is_available() and hp.GPU >= 0) else \"cpu\")\n",
    "        if hp.LogToWandb:\n",
    "            wandb.login()\n",
    "            wandb.init(project=hp.ProjectName, entity=hp.WadbUsername)\n",
    "            wandb.run.name = hp.ExpName\n",
    "            wandb.config.args = vars(hp)\n",
    "\n",
    "        #load data\n",
    "        data_loader = MyDataLoader(Subjects=hp.Subjects, nChannelsAb=hp.nChannelsAb, nChannelsCh=hp.nChannelsCh, window_len=hp.window_len, band_width=hp.band_width, device=device)\n",
    "        if data_loader.SubjectsDict[hp.Subjects[0]]['sigLen']<5000:\n",
    "            #discard short recordings\n",
    "            DiscardedSubjects.append('Experiment #%g, subject %g'%(ie,hp.Subjects[0]))\n",
    "            continue\n",
    "\n",
    "        #get model\n",
    "        exec(open(os.path.join(\"Scripts\", \"GetModel.py\")).read())\n",
    "\n",
    "        #qualitative evaluations\n",
    "        exec(open(os.path.join(\"Scripts\", \"GetQualitativeEval.py\")).read())\n",
    "\n",
    "        #objective evaluations\n",
    "        exec(open(os.path.join(\"Scripts\", \"GetObjectiveEval.py\")).read())\n",
    "\n",
    "        #compare to baselines\n",
    "        exec(open(os.path.join(\"Scripts\", \"GetBaselines.py\")).read())\n",
    "\n",
    "        #summarize results in tables\n",
    "        for metric in ['Ratio','Diff']:\n",
    "            ResultsMeanDict[metric].append([hp.Subjects[0],InputScore_Mean[metric],CodeScore_Mean[metric]]+[x[0][metric] for x in ScoresPerBaselines])\n",
    "            ResultsStdDict[metric].append([hp.Subjects[0],InputScore_Std[metric],CodeScore_Std[metric]]+[x[1][metric] for x in ScoresPerBaselines])\n",
    "\n",
    "        if hp.LogToWandb:\n",
    "            wandb.log({\"Objective Evaluations\": [wandb.Image(x) for x in figs_list]})\n",
    "        plt.close('all')\n",
    "\n",
    "    except Exception as inst:\n",
    "        DiscardedSubjects.append('Experiment #%g, subject %g'%(ie,e['Subjects'][0]))\n",
    "        print(type(inst))\n",
    "        print(inst.args)\n",
    "        print(inst)\n",
    "\n",
    "for metric in ['Ratio','Diff']:\n",
    "    ResultsMeanDict[metric]=np.array(ResultsMeanDict[metric])\n",
    "    ResultsStdDict[metric]=np.array(ResultsStdDict[metric])"
   ],
   "metadata": {
    "collapsed": false,
    "pycharm": {
     "name": "#%%\n"
    }
   }
  },
  {
   "cell_type": "markdown",
   "source": [
    "Save and print results"
   ],
   "metadata": {
    "collapsed": false
   }
  },
  {
   "cell_type": "code",
   "execution_count": null,
   "outputs": [],
   "source": [
    "exec(open(os.path.join(\"Scripts\", \"PrintTables.py\")).read())\n",
    "np.save(os.path.join('SavedTables','Results_Mean'),ResultsMeanDict)\n",
    "np.save(os.path.join('SavedTables','Results_Std'),ResultsStdDict)\n",
    "with open(os.path.join('SavedTables','Results_PerSubject.txt'), 'w') as f:\n",
    "    f.write(tab_per_subject)\n",
    "with open(os.path.join('SavedTables','Results_Aggregated.txt'), 'w') as f:\n",
    "    f.write(tab_agg)#%%\n",
    "\n"
   ],
   "metadata": {
    "collapsed": false,
    "pycharm": {
     "name": "#%%\n"
    }
   }
  }
 ],
 "metadata": {
  "kernelspec": {
   "display_name": "Python 3",
   "language": "python",
   "name": "python3"
  },
  "language_info": {
   "codemirror_mode": {
    "name": "ipython",
    "version": 2
   },
   "file_extension": ".py",
   "mimetype": "text/x-python",
   "name": "python",
   "nbconvert_exporter": "python",
   "pygments_lexer": "ipython2",
   "version": "2.7.6"
  }
 },
 "nbformat": 4,
 "nbformat_minor": 0
}